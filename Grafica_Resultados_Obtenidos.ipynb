{
  "nbformat": 4,
  "nbformat_minor": 0,
  "metadata": {
    "colab": {
      "provenance": []
    },
    "kernelspec": {
      "name": "python3",
      "display_name": "Python 3"
    },
    "language_info": {
      "name": "python"
    }
  },
  "cells": [
    {
      "cell_type": "code",
      "execution_count": null,
      "metadata": {
        "id": "5IcctiKLpFKJ"
      },
      "outputs": [],
      "source": [
        "import numpy as np\n",
        "import matplotlib.pyplot as plt\n",
        "\n",
        "# Ruta del archivo (ajusta si el nombre cambia)\n",
        "file_path = '/content/rssi_datos.txt'\n",
        "\n",
        "# Leer encabezados (primera línea)\n",
        "with open(file_path, 'r') as f:\n",
        "    headers = f.readline().strip().split()\n",
        "\n",
        "# Leer los datos numéricos (saltando encabezado)\n",
        "data = np.loadtxt(file_path, skiprows=1)\n",
        "\n",
        "# Eje X automático: 0.5, 1.0, 1.5, ...\n",
        "x = np.arange(0.5, 0.5 * (len(data) + 1), 0.5)\n",
        "\n",
        "# Crear la gráfica\n",
        "plt.figure(figsize=(10, 6))\n",
        "\n",
        "# Graficar cada columna como una línea (todas las 4)\n",
        "for i in range(data.shape[1]):\n",
        "    plt.plot(x, data[:, i], label=headers[i], marker='o')\n",
        "\n",
        "# Personalización\n",
        "plt.title('Gráfica de Tiempo vs RSSI')\n",
        "plt.xlabel('Índice (0.5 por dato)')\n",
        "plt.ylabel('Valores')\n",
        "plt.legend()\n",
        "plt.grid(True)\n",
        "plt.tight_layout()\n",
        "\n",
        "# Mostrar la gráfica\n",
        "plt.show()"
      ]
    }
  ]
}